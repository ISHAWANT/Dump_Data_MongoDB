{
 "cells": [
  {
   "cell_type": "code",
   "execution_count": 13,
   "id": "1be27aec",
   "metadata": {},
   "outputs": [],
   "source": [
    "import pymongo \n",
    "\n",
    "import pandas as pd \n",
    "import json \n",
    "from dotenv import load_dotenv \n",
    "import os "
   ]
  },
  {
   "cell_type": "code",
   "execution_count": 14,
   "id": "db06ec4b",
   "metadata": {},
   "outputs": [],
   "source": [
    "load_dotenv() \n",
    "\n",
    "MONGO_DB_URL = os.getenv(\"MONGO_DB_URL\")"
   ]
  },
  {
   "cell_type": "code",
   "execution_count": 3,
   "id": "1fc9a209",
   "metadata": {},
   "outputs": [],
   "source": [
    "# print(MONGO_DB_URL)"
   ]
  },
  {
   "cell_type": "code",
   "execution_count": 15,
   "id": "2addb494",
   "metadata": {},
   "outputs": [
    {
     "name": "stdout",
     "output_type": "stream",
     "text": [
      "rows and columns: (1338, 7)\n",
      "{'age': 19, 'sex': 'female', 'bmi': 27.9, 'children': 0, 'smoker': 'yes', 'region': 'southwest', 'expenses': 16884.92}\n"
     ]
    }
   ],
   "source": [
    "clinet = pymongo.MongoClient(MONGO_DB_URL) \n",
    "\n",
    "DATA_FILE_PATH = (r\"D:\\Dump_Data_MongoDB\\insurance.csv\")\n",
    "\n",
    "DATABASE_NAME=\"INSURANCE\" \n",
    "COLLECTION_NAME = 'INSURANCE_PROJECT' \n",
    "\n",
    "if __name__==\"__main__\":\n",
    "    df = pd.read_csv(DATA_FILE_PATH)\n",
    "    print(f\"rows and columns: {df.shape}\")\n",
    "\n",
    "    df.reset_index(drop=True,inplace=True) \n",
    "\n",
    "    json_record = list(json.loads(df.T.to_json()).values())\n",
    "\n",
    "    print(json_record[0])\n",
    "\n",
    "    clinet[DATABASE_NAME][COLLECTION_NAME].insert_many(json_record)"
   ]
  },
  {
   "cell_type": "code",
   "execution_count": null,
   "id": "dc944774",
   "metadata": {},
   "outputs": [],
   "source": []
  }
 ],
 "metadata": {
  "kernelspec": {
   "display_name": "Python 3",
   "language": "python",
   "name": "python3"
  },
  "language_info": {
   "codemirror_mode": {
    "name": "ipython",
    "version": 3
   },
   "file_extension": ".py",
   "mimetype": "text/x-python",
   "name": "python",
   "nbconvert_exporter": "python",
   "pygments_lexer": "ipython3",
   "version": "3.10.18"
  }
 },
 "nbformat": 4,
 "nbformat_minor": 5
}
